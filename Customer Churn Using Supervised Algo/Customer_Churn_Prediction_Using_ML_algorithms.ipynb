{
  "nbformat": 4,
  "nbformat_minor": 0,
  "metadata": {
    "colab": {
      "private_outputs": true,
      "provenance": []
    },
    "kernelspec": {
      "name": "python3",
      "display_name": "Python 3"
    },
    "language_info": {
      "name": "python"
    }
  },
  "cells": [
    {
      "cell_type": "code",
      "execution_count": null,
      "metadata": {
        "id": "vde2QMUk7AjS"
      },
      "outputs": [],
      "source": [
        "import numpy as np\n",
        "import pandas as pd\n",
        "import matplotlib.pyplot as plt\n",
        "import seaborn as sns\n",
        "from imblearn.over_sampling import SMOTE\n",
        "from sklearn.preprocessing import LabelEncoder\n",
        "from sklearn.preprocessing import StandardScaler\n",
        "from sklearn.model_selection import train_test_split\n",
        "from sklearn.linear_model import LogisticRegression\n",
        "from sklearn.tree import DecisionTreeClassifier\n",
        "from sklearn.ensemble import RandomForestClassifier, GradientBoostingClassifier\n",
        "from sklearn.svm import SVC\n",
        "from sklearn.neighbors import KNeighborsClassifier\n",
        "from sklearn.metrics import accuracy_score, precision_score, recall_score, f1_score, roc_auc_score"
      ]
    },
    {
      "cell_type": "code",
      "source": [
        "df=pd.read_csv('churn.csv')"
      ],
      "metadata": {
        "id": "SwmQ-yP_7XU0"
      },
      "execution_count": null,
      "outputs": []
    },
    {
      "cell_type": "code",
      "source": [
        "df"
      ],
      "metadata": {
        "id": "Rw047xrg7pyM"
      },
      "execution_count": null,
      "outputs": []
    },
    {
      "cell_type": "code",
      "source": [
        "df.info()"
      ],
      "metadata": {
        "id": "Kclr3Ecq7qPS"
      },
      "execution_count": null,
      "outputs": []
    },
    {
      "cell_type": "code",
      "source": [
        "df.isnull().sum()"
      ],
      "metadata": {
        "id": "EwFZyDh17smo"
      },
      "execution_count": null,
      "outputs": []
    },
    {
      "cell_type": "code",
      "source": [
        "df.describe()"
      ],
      "metadata": {
        "id": "pe5TSoXo7urh"
      },
      "execution_count": null,
      "outputs": []
    },
    {
      "cell_type": "code",
      "source": [
        "df=df.drop(columns=['customerID'])"
      ],
      "metadata": {
        "id": "Xab664GE70Xn"
      },
      "execution_count": null,
      "outputs": []
    },
    {
      "cell_type": "code",
      "source": [
        "objects_columns=df.select_dtypes(include=['object']).columns"
      ],
      "metadata": {
        "id": "Zn7tTfCV78bD"
      },
      "execution_count": null,
      "outputs": []
    },
    {
      "cell_type": "code",
      "source": [
        "objects_columns"
      ],
      "metadata": {
        "id": "_IiJKIiz78-K"
      },
      "execution_count": null,
      "outputs": []
    },
    {
      "cell_type": "code",
      "source": [
        "encoders={}\n",
        "for columns in objects_columns:\n",
        "  encoders[columns]=LabelEncoder()\n",
        "  df[columns]=encoders[columns].fit_transform(df[columns])"
      ],
      "metadata": {
        "id": "M4ht1sK68x4R"
      },
      "execution_count": null,
      "outputs": []
    },
    {
      "cell_type": "code",
      "source": [
        "corr=df.corr()\n",
        "plt.figure(figsize=(10,10))\n",
        "sns.heatmap(corr,annot=True)"
      ],
      "metadata": {
        "id": "cCl2PLQF_Omq"
      },
      "execution_count": null,
      "outputs": []
    },
    {
      "cell_type": "code",
      "source": [
        "plt.figure(figsize=(4,3))\n",
        "sns.boxplot(x='gender', y='tenure', data=df)\n",
        "plt.title('Gender vs. Tenure')\n",
        "plt.show()"
      ],
      "metadata": {
        "id": "JTRMWSmK_iHh"
      },
      "execution_count": null,
      "outputs": []
    },
    {
      "cell_type": "code",
      "source": [
        "plt.figure(figsize=(5,3))\n",
        "sns.histplot(df['MonthlyCharges'],bins=30,kde=True)\n",
        "plt.title('Histogram of Monthly Charges')\n",
        "plt.xlabel('Monthly Charges')\n",
        "plt.ylabel('Frequency')\n",
        "plt.show()"
      ],
      "metadata": {
        "id": "VD5Jf8InAwGw"
      },
      "execution_count": null,
      "outputs": []
    },
    {
      "cell_type": "code",
      "source": [
        "sns.pairplot(df)"
      ],
      "metadata": {
        "id": "qFcg9wSFBXeL"
      },
      "execution_count": null,
      "outputs": []
    },
    {
      "cell_type": "code",
      "source": [
        "X=df.drop('Churn',axis=1)\n",
        "Y=df['Churn']"
      ],
      "metadata": {
        "id": "OpZSxmRjBggf"
      },
      "execution_count": null,
      "outputs": []
    },
    {
      "cell_type": "code",
      "source": [
        "X_train,X_test,Y_train,Y_test=train_test_split(X,Y,test_size=0.2,random_state=42)"
      ],
      "metadata": {
        "id": "UMwxQ9ItCCP1"
      },
      "execution_count": null,
      "outputs": []
    },
    {
      "cell_type": "code",
      "source": [
        "scaler=StandardScaler()\n",
        "X_train=scaler.fit_transform(X_train)\n",
        "X_test=scaler.transform(X_test)"
      ],
      "metadata": {
        "id": "bLUVIXYrCYCy"
      },
      "execution_count": null,
      "outputs": []
    },
    {
      "cell_type": "code",
      "source": [
        "print(X_train.shape)\n",
        "print(X_test.shape)\n",
        "print(Y_train.shape)\n",
        "print(Y_train.shape)"
      ],
      "metadata": {
        "id": "JjbAJZyPC02Q"
      },
      "execution_count": null,
      "outputs": []
    },
    {
      "cell_type": "code",
      "source": [
        "X_train"
      ],
      "metadata": {
        "id": "oJGpVQVGDPbI"
      },
      "execution_count": null,
      "outputs": []
    },
    {
      "cell_type": "code",
      "source": [
        "lr=LogisticRegression()\n",
        "lr.fit(X_train,Y_train)\n",
        "y_pred_lr=lr.predict(X_test)"
      ],
      "metadata": {
        "id": "g1akGXh_DeMf"
      },
      "execution_count": null,
      "outputs": []
    },
    {
      "cell_type": "code",
      "source": [
        "accuracy_lr=accuracy_score(Y_test,y_pred_lr)\n",
        "precision_lr=precision_score(Y_test, y_pred_lr),\n",
        "recall_lr=recall_score(Y_test, y_pred_lr),\n",
        "f1_lr=f1_score(Y_test, y_pred_lr),"
      ],
      "metadata": {
        "id": "8L7Q3uhWDqOh"
      },
      "execution_count": null,
      "outputs": []
    },
    {
      "cell_type": "code",
      "source": [
        "print('Accuracy:',accuracy_lr)\n",
        "print('Precision:',precision_lr)\n",
        "print('Recall:',recall_lr)\n",
        "print('F1_score:',f1_lr)"
      ],
      "metadata": {
        "id": "R3ag_EVwEDCv"
      },
      "execution_count": null,
      "outputs": []
    },
    {
      "cell_type": "code",
      "source": [
        "from sklearn.metrics import roc_curve, auc\n",
        "y_pred_lr_prob = lr.predict_proba(X_test)[:, 1]\n",
        "\n",
        "fpr, tpr, thresholds = roc_curve(Y_test, y_pred_lr_prob)\n",
        "roc_auc = auc(fpr, tpr)\n",
        "\n",
        "plt.figure(figsize=(5,4))\n",
        "plt.plot(fpr, tpr, color='darkorange', lw=2, label='ROC curve (area = %0.2f)' % roc_auc)\n",
        "plt.plot([0, 1], [0, 1], color='navy', lw=2, linestyle='--')\n",
        "plt.xlim([0.0, 1.0])\n",
        "plt.ylim([0.0, 1.05])\n",
        "plt.xlabel('False Positive Rate')\n",
        "plt.ylabel('True Positive Rate')\n",
        "plt.title('Receiver Operating Characteristic (ROC) Curve')\n",
        "plt.legend(loc=\"lower right\")\n",
        "plt.show()\n"
      ],
      "metadata": {
        "id": "0ZzR8SVmFb6H"
      },
      "execution_count": null,
      "outputs": []
    },
    {
      "cell_type": "code",
      "source": [
        "dt=DecisionTreeClassifier()\n",
        "dt.fit(X_train,Y_train)\n",
        "y_pred_dt=dt.predict(X_test)"
      ],
      "metadata": {
        "id": "6fOJ0FYMEaU1"
      },
      "execution_count": null,
      "outputs": []
    },
    {
      "cell_type": "code",
      "source": [
        "accuracy_dt=accuracy_score(Y_test,y_pred_dt)\n",
        "precision_dt=precision_score(Y_test, y_pred_dt),\n",
        "recall_dt=recall_score(Y_test, y_pred_dt),\n",
        "f1_dt=f1_score(Y_test, y_pred_dt),"
      ],
      "metadata": {
        "id": "t_fFfqNjFNlz"
      },
      "execution_count": null,
      "outputs": []
    },
    {
      "cell_type": "code",
      "source": [
        "print('Accuracy:',accuracy_dt)\n",
        "print('Precision:',precision_dt)\n",
        "print('Recall:',recall_dt)\n",
        "print('F1_score:',f1_dt)"
      ],
      "metadata": {
        "id": "2mcPe_QLFUc0"
      },
      "execution_count": null,
      "outputs": []
    },
    {
      "cell_type": "code",
      "source": [
        "from sklearn.tree import plot_tree\n",
        "plt.figure(figsize=(30,25))\n",
        "plot_tree(dt, filled=True, feature_names=X.columns, class_names=['0','1'], rounded=True)\n",
        "plt.show()"
      ],
      "metadata": {
        "id": "_oInEcUPFYHn"
      },
      "execution_count": null,
      "outputs": []
    },
    {
      "cell_type": "code",
      "source": [
        "rf=RandomForestClassifier()\n",
        "rf.fit(X_train,Y_train)\n",
        "y_pred_rf=rf.predict(X_test)"
      ],
      "metadata": {
        "id": "0q47Nm-QKFAo"
      },
      "execution_count": null,
      "outputs": []
    },
    {
      "cell_type": "code",
      "source": [
        "accuracy_rf=accuracy_score(Y_test,y_pred_rf)\n",
        "precision_rf=precision_score(Y_test, y_pred_rf),\n",
        "recall_rf=recall_score(Y_test, y_pred_rf),\n",
        "f1_rf=f1_score(Y_test, y_pred_rf),"
      ],
      "metadata": {
        "id": "kpIHVb23LCAT"
      },
      "execution_count": null,
      "outputs": []
    },
    {
      "cell_type": "code",
      "source": [
        "print('Accuracy:',accuracy_rf)\n",
        "print('Precision:',precision_rf)\n",
        "print('Recall:',recall_rf)\n",
        "print('F1_score:',f1_rf)"
      ],
      "metadata": {
        "id": "yhpt_ND1LQUG"
      },
      "execution_count": null,
      "outputs": []
    },
    {
      "cell_type": "code",
      "source": [
        "plt.figure(figsize=(30,25))\n",
        "plot_tree(rf.estimators_[0], filled=True, feature_names=X.columns, class_names=['0','1'], rounded=True)\n",
        "plt.show()"
      ],
      "metadata": {
        "id": "C_wjxtGxLVib"
      },
      "execution_count": null,
      "outputs": []
    },
    {
      "cell_type": "code",
      "source": [
        "svm=SVC()\n",
        "svm.fit(X_train,Y_train)\n",
        "y_pred_svm=svm.predict(X_test)"
      ],
      "metadata": {
        "id": "DTouq6dtLtek"
      },
      "execution_count": null,
      "outputs": []
    },
    {
      "cell_type": "code",
      "source": [
        "accuracy_svm=accuracy_score(Y_test,y_pred_svm)\n",
        "precision_svm=precision_score(Y_test, y_pred_svm),\n",
        "recall_svm=recall_score(Y_test, y_pred_svm),\n",
        "f1_svm=f1_score(Y_test, y_pred_svm),"
      ],
      "metadata": {
        "id": "80c69kfkMy1b"
      },
      "execution_count": null,
      "outputs": []
    },
    {
      "cell_type": "code",
      "source": [
        "print('Accuracy:',accuracy_svm)\n",
        "print('Precision:',precision_svm)\n",
        "print('Recall:',recall_svm)\n",
        "print('F1_score:',f1_svm)"
      ],
      "metadata": {
        "id": "t7z4JlEWN1o-"
      },
      "execution_count": null,
      "outputs": []
    },
    {
      "cell_type": "code",
      "source": [
        "knn=KNeighborsClassifier()\n",
        "knn.fit(X_train,Y_train)\n",
        "y_pred_knn=knn.predict(X_test)"
      ],
      "metadata": {
        "id": "S55uEbEQOKOA"
      },
      "execution_count": null,
      "outputs": []
    },
    {
      "cell_type": "code",
      "source": [
        "accuracy_knn=accuracy_score(Y_test,y_pred_knn)\n",
        "precision_knn=precision_score(Y_test, y_pred_knn),\n",
        "recall_knn=recall_score(Y_test, y_pred_knn),\n",
        "f1_knn=f1_score(Y_test, y_pred_knn),"
      ],
      "metadata": {
        "id": "E5g79jwXP2Em"
      },
      "execution_count": null,
      "outputs": []
    },
    {
      "cell_type": "code",
      "source": [
        "print('Accuracy:',accuracy_knn)\n",
        "print('Precision:',precision_knn)\n",
        "print('Recall:',recall_knn)\n",
        "print('F1_score:',f1_knn)"
      ],
      "metadata": {
        "id": "cgJh5r05PVts"
      },
      "execution_count": null,
      "outputs": []
    },
    {
      "cell_type": "code",
      "source": [
        "GBC=GradientBoostingClassifier()\n",
        "GBC.fit(X_train,Y_train)\n",
        "y_pred_GBC=GBC.predict(X_test)"
      ],
      "metadata": {
        "id": "M1cO8j7tPzFK"
      },
      "execution_count": null,
      "outputs": []
    },
    {
      "cell_type": "code",
      "source": [
        "accuracy_GBC=accuracy_score(Y_test,y_pred_GBC)\n",
        "precision_GBC=precision_score(Y_test, y_pred_GBC),\n",
        "recall_GBC=recall_score(Y_test, y_pred_GBC),\n",
        "f1_GBC=f1_score(Y_test, y_pred_GBC),"
      ],
      "metadata": {
        "id": "GydgQEvnRRq6"
      },
      "execution_count": null,
      "outputs": []
    },
    {
      "cell_type": "code",
      "source": [
        "print('Accuracy:',accuracy_GBC)\n",
        "print('Precision:',precision_GBC)\n",
        "print('Recall:',recall_GBC)\n",
        "print('F1_score:',f1_GBC)"
      ],
      "metadata": {
        "id": "CUhgRhveRrYF"
      },
      "execution_count": null,
      "outputs": []
    },
    {
      "cell_type": "code",
      "source": [
        "import joblib\n",
        "\n",
        "joblib.dump(dt, 'dt_model.pkl')\n",
        "joblib.dump(rf, 'rf_model.pkl')\n",
        "joblib.dump(GBC, 'gbc_model.pkl')\n",
        "joblib.dump(svm, 'svm_model.pkl')\n",
        "joblib.dump(knn, 'knn_model.pkl')\n",
        "joblib.dump(lr, 'lr_model.pkl')"
      ],
      "metadata": {
        "id": "wJFxkv2KRwa2"
      },
      "execution_count": null,
      "outputs": []
    },
    {
      "cell_type": "code",
      "source": [
        "\n"
      ],
      "metadata": {
        "id": "mO9784xYxt3h"
      },
      "execution_count": null,
      "outputs": []
    }
  ]
}