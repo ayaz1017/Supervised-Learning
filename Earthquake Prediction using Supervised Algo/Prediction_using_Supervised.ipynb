{
  "nbformat": 4,
  "nbformat_minor": 0,
  "metadata": {
    "colab": {
      "private_outputs": true,
      "provenance": []
    },
    "kernelspec": {
      "name": "python3",
      "display_name": "Python 3"
    },
    "language_info": {
      "name": "python"
    }
  },
  "cells": [
    {
      "cell_type": "code",
      "execution_count": null,
      "metadata": {
        "id": "brClmuuoXtT0"
      },
      "outputs": [],
      "source": [
        "from google.colab import drive\n",
        "drive.mount('/content/drive')"
      ]
    },
    {
      "cell_type": "code",
      "source": [
        "file_path = '/content/drive/MyDrive/Minor Project Sem-VI/data.csv'"
      ],
      "metadata": {
        "id": "V-n3xt-ZZMEZ"
      },
      "execution_count": null,
      "outputs": []
    },
    {
      "cell_type": "code",
      "source": [
        "import pandas as pd"
      ],
      "metadata": {
        "id": "Ue1lOkE2ceaT"
      },
      "execution_count": null,
      "outputs": []
    },
    {
      "cell_type": "code",
      "source": [
        "from google.colab import data_table\n",
        "data_table.enable_dataframe_formatter()\n",
        "df = pd.read_csv(file_path, delimiter=r'\\s+')"
      ],
      "metadata": {
        "id": "EBe1GtRCYNPD"
      },
      "execution_count": null,
      "outputs": []
    },
    {
      "cell_type": "code",
      "source": [
        "df"
      ],
      "metadata": {
        "id": "3bFmrjOvYpOE"
      },
      "execution_count": null,
      "outputs": []
    },
    {
      "cell_type": "code",
      "source": [
        "new_column_names = [\"Date(YYYY/MM/DD)\",  \"Time(UTC)\", \"Latitude(deg)\", \"Longitude(deg)\", \"Depth(km)\", \"Magnitude(ergs)\",\n",
        "                    \"Magnitude_type\", \"No_of_Stations\", \"Gap\", \"Close\", \"RMS\", \"SRC\", \"EventID\"]\n",
        "\n",
        "df.columns = new_column_names\n",
        "ts = pd.to_datetime(df[\"Date(YYYY/MM/DD)\"] + \" \" + df[\"Time(UTC)\"])\n",
        "df = df.drop([\"Date(YYYY/MM/DD)\", \"Time(UTC)\"], axis=1)\n",
        "df.index = ts\n",
        "display(df)"
      ],
      "metadata": {
        "id": "MilyUrJAZieB"
      },
      "execution_count": null,
      "outputs": []
    },
    {
      "cell_type": "code",
      "source": [
        "df.columns"
      ],
      "metadata": {
        "id": "SoR4-BiVLGIL"
      },
      "execution_count": null,
      "outputs": []
    },
    {
      "cell_type": "code",
      "source": [
        "df.info()"
      ],
      "metadata": {
        "id": "1mjQv8Z9Z3KM"
      },
      "execution_count": null,
      "outputs": []
    },
    {
      "cell_type": "code",
      "source": [
        "df.columns"
      ],
      "metadata": {
        "id": "_teREMe4aY01"
      },
      "execution_count": null,
      "outputs": []
    },
    {
      "cell_type": "code",
      "source": [
        "df.shape"
      ],
      "metadata": {
        "id": "NsMOwmbIaiBw"
      },
      "execution_count": null,
      "outputs": []
    },
    {
      "cell_type": "code",
      "source": [
        "df.describe()"
      ],
      "metadata": {
        "id": "okHs0FfEZ6sy"
      },
      "execution_count": null,
      "outputs": []
    },
    {
      "cell_type": "code",
      "source": [
        "df.isnull().sum()"
      ],
      "metadata": {
        "id": "vXjNOkPPZ_2f"
      },
      "execution_count": null,
      "outputs": []
    },
    {
      "cell_type": "code",
      "source": [
        "import matplotlib.pyplot as plt\n",
        "import seaborn as sns"
      ],
      "metadata": {
        "id": "wVZqSiT0aFhH"
      },
      "execution_count": null,
      "outputs": []
    },
    {
      "cell_type": "code",
      "source": [
        "sns.pairplot(df)\n",
        "plt.show()\n"
      ],
      "metadata": {
        "id": "LlXnSfmMaOvN"
      },
      "execution_count": null,
      "outputs": []
    },
    {
      "cell_type": "code",
      "source": [
        "import matplotlib.pyplot as plt\n",
        "import seaborn as sns\n",
        "\n",
        "# Apply a clean theme\n",
        "sns.set_theme(style=\"whitegrid\")\n",
        "\n",
        "plt.figure(figsize=(12, 7))\n",
        "scatter = sns.scatterplot(\n",
        "    data=df,\n",
        "    x='Latitude(deg)',\n",
        "    y='Magnitude(ergs)',\n",
        "    hue='Magnitude(ergs)',\n",
        "    palette='viridis',\n",
        "    s=100,\n",
        "    edgecolor='black',\n",
        "    alpha=0.8\n",
        ")\n",
        "plt.title('Earthquake Magnitude vs Latitude', fontsize=16, fontweight='bold', color='darkblue')\n",
        "plt.xlabel('Latitude (degrees)', fontsize=13)\n",
        "plt.ylabel('Magnitude (ergs)', fontsize=13)\n",
        "plt.grid(True, linestyle='--', alpha=0.6)\n",
        "plt.legend(title='Magnitude', bbox_to_anchor=(1.05, 1), loc='upper left')\n",
        "plt.tight_layout()\n",
        "plt.show()\n"
      ],
      "metadata": {
        "id": "aYEjrW2radCf"
      },
      "execution_count": null,
      "outputs": []
    },
    {
      "cell_type": "code",
      "source": [
        "import matplotlib.pyplot as plt\n",
        "import seaborn as sns\n",
        "\n",
        "# Set Seaborn theme\n",
        "sns.set_theme(style=\"whitegrid\")\n",
        "\n",
        "plt.figure(figsize=(8,6))\n",
        "\n",
        "# Enhanced scatter plot\n",
        "scatter = sns.scatterplot(\n",
        "    data=df,\n",
        "    x='Longitude(deg)',\n",
        "    y='Magnitude(ergs)',\n",
        "    hue='Magnitude(ergs)',\n",
        "    palette='coolwarm',\n",
        "    s=100,\n",
        "    edgecolor='black',\n",
        "    alpha=0.85\n",
        ")\n",
        "plt.title('Earthquake Magnitude vs Longitude', fontsize=16, fontweight='bold', color='darkred')\n",
        "plt.xlabel('Longitude (degrees)', fontsize=13)\n",
        "plt.ylabel('Magnitude (ergs)', fontsize=13)\n",
        "\n",
        "# Styled grid and layout\n",
        "plt.grid(True, linestyle='--', alpha=0.6)\n",
        "plt.legend(title='Magnitude', bbox_to_anchor=(1.05, 1), loc='upper left')\n",
        "plt.tight_layout()\n",
        "plt.show()\n"
      ],
      "metadata": {
        "id": "kbrSrdIqatD-"
      },
      "execution_count": null,
      "outputs": []
    },
    {
      "cell_type": "code",
      "source": [
        "from mpl_toolkits.mplot3d import Axes3D\n",
        "import matplotlib.pyplot as plt\n",
        "\n",
        "fig = plt.figure(figsize=(12, 9))\n",
        "ax = fig.add_subplot(111, projection='3d')\n",
        "\n",
        "# 3D scatter with color by magnitude\n",
        "scatter = ax.scatter(\n",
        "    df['Latitude(deg)'],\n",
        "    df['Longitude(deg)'],\n",
        "    df['Depth(km)'],\n",
        "    c=df['Magnitude(ergs)'],\n",
        "    cmap='plasma',              # Vibrant colormap\n",
        "    s=60,                       # Marker size\n",
        "    edgecolor='black',\n",
        "    alpha=0.9\n",
        ")\n",
        "\n",
        "# Axes labels and title\n",
        "ax.set_xlabel('Latitude (deg)', fontsize=12)\n",
        "ax.set_ylabel('Longitude (deg)', fontsize=12)\n",
        "ax.set_zlabel('Depth (km)', fontsize=12)\n",
        "ax.set_title('3D Scatter of Location, Depth & Magnitude', fontsize=16, fontweight='bold', color='darkblue')\n",
        "\n",
        "# Color bar for magnitude\n",
        "cbar = fig.colorbar(scatter, ax=ax, shrink=0.6, pad=0.1)\n",
        "cbar.set_label('Magnitude (ergs)', fontsize=12)\n",
        "\n",
        "plt.tight_layout()\n",
        "plt.show()\n"
      ],
      "metadata": {
        "id": "_iTkF0MSdOrB"
      },
      "execution_count": null,
      "outputs": []
    },
    {
      "cell_type": "code",
      "source": [
        "df.columns"
      ],
      "metadata": {
        "id": "MYlJceUjtgZx"
      },
      "execution_count": null,
      "outputs": []
    },
    {
      "cell_type": "code",
      "source": [
        "df.columns"
      ],
      "metadata": {
        "id": "xXSU8Uj5mDIW"
      },
      "execution_count": null,
      "outputs": []
    },
    {
      "cell_type": "code",
      "source": [
        "X = df[['Latitude(deg)', 'Longitude(deg)', 'Depth(km)', 'No_of_Stations']]\n",
        "y = df['Magnitude(ergs)']\n",
        "\n",
        "from sklearn.model_selection import train_test_split\n",
        "X_train, X_test, y_train, y_test = train_test_split(X, y, test_size=0.2, random_state=0)"
      ],
      "metadata": {
        "id": "wpAya2jsbevP"
      },
      "execution_count": null,
      "outputs": []
    },
    {
      "cell_type": "code",
      "source": [
        "print(X.shape)\n",
        "print(y.shape)"
      ],
      "metadata": {
        "id": "MMWhVPr_bikt"
      },
      "execution_count": null,
      "outputs": []
    },
    {
      "cell_type": "code",
      "source": [
        "print(X_train.shape)\n",
        "print(y_train.shape)\n",
        "print(X_test.shape)\n",
        "print(y_test.shape)"
      ],
      "metadata": {
        "id": "T3Ug6smwbn0K"
      },
      "execution_count": null,
      "outputs": []
    },
    {
      "cell_type": "code",
      "source": [
        "from sklearn.linear_model import LinearRegression\n",
        "regressor = LinearRegression()\n",
        "regressor.fit(X_train, y_train)"
      ],
      "metadata": {
        "id": "6Qrihasyb2oo"
      },
      "execution_count": null,
      "outputs": []
    },
    {
      "cell_type": "code",
      "source": [
        "from sklearn.metrics import r2_score, mean_squared_error\n",
        "\n",
        "scores= {\"Model name\": [\"Linear regression\", \"SVM\", \"Random Forest\"], \"mse\": [], \"R^2\": []}\n",
        "\n",
        "y_pred = regressor.predict(X_test)\n",
        "\n",
        "r2 = r2_score(y_test, y_pred)\n",
        "mse = mean_squared_error(y_test, y_pred)\n",
        "\n",
        "scores['mse'].append(mse)\n",
        "scores['R^2'].append(r2)\n",
        "\n",
        "print(\"R^2: {:.2f}, MSE: {:.2f}\".format(r2, mse))"
      ],
      "metadata": {
        "id": "mqjmS1ZEcHgz"
      },
      "execution_count": null,
      "outputs": []
    },
    {
      "cell_type": "code",
      "source": [
        "joblib.dump(regressor, 'earthquake_model_reg.pkl')"
      ],
      "metadata": {
        "id": "dHzQG3acf62r"
      },
      "execution_count": null,
      "outputs": []
    },
    {
      "cell_type": "code",
      "source": [
        "import seaborn as sns\n",
        "import matplotlib.pyplot as plt\n",
        "\n",
        "# Set Seaborn theme\n",
        "sns.set_theme(style=\"whitegrid\")\n",
        "\n",
        "plt.figure(figsize=(7,6))\n",
        "\n",
        "# Individual regplots for each feature\n",
        "sns.regplot(x=X_test['Latitude(deg)'], y=y_test, color='blue',\n",
        "            scatter_kws={'s': 20, 'alpha': 0.7}, label='Latitude (deg)')\n",
        "sns.regplot(x=X_test['Longitude(deg)'], y=y_test, color='red',\n",
        "            scatter_kws={'s': 20, 'alpha': 0.7}, label='Longitude (deg)')\n",
        "sns.regplot(x=X_test['Depth(km)'], y=y_test, color='gold',\n",
        "            scatter_kws={'s': 20, 'alpha': 0.7}, label='Depth (km)')\n",
        "sns.regplot(x=X_test['No_of_Stations'], y=y_test, color='purple',\n",
        "            scatter_kws={'s': 20, 'alpha': 0.7}, label='No. of Stations')\n",
        "\n",
        "plt.title('Multiple Linear Regression Model: Predictors vs Magnitude', fontsize=16, fontweight='bold', color='darkgreen')\n",
        "plt.xlabel('Predictor Variables (varied)', fontsize=13)\n",
        "plt.ylabel('Magnitude (ergs)', fontsize=13)\n",
        "plt.legend(title='Features', fontsize=11, title_fontsize=12)\n",
        "plt.grid(True, linestyle='--', alpha=0.5)\n",
        "plt.tight_layout()\n",
        "plt.show()\n",
        "\n"
      ],
      "metadata": {
        "id": "C7QkIWi9cKhu"
      },
      "execution_count": null,
      "outputs": []
    },
    {
      "cell_type": "code",
      "source": [
        "from sklearn.svm import SVR\n",
        "subset_size = 500\n",
        "X_train_subset = X_train[:subset_size]\n",
        "y_train_subset = y_train[:subset_size]\n",
        "svm = SVR(kernel='rbf', C=1e3, gamma=0.1)\n",
        "svm.fit(X_train_subset, y_train_subset)\n",
        "score = svm.score(X_test, y_test)\n",
        "print(\"Test score:\", score)"
      ],
      "metadata": {
        "id": "hd6rDvjLcdNi"
      },
      "execution_count": null,
      "outputs": []
    },
    {
      "cell_type": "code",
      "source": [
        "y_pred_svm = svm.predict(X_test)\n",
        "r2_svm = r2_score(y_test, y_pred_svm)\n",
        "mse_svm = mean_squared_error(y_test, y_pred_svm)\n",
        "\n",
        "scores['mse'].append(mse_svm)\n",
        "scores['R^2'].append(r2_svm)\n",
        "\n",
        "print(\"SVM R^2: {:.2f}, MSE: {:.2f}\".format(r2_svm, mse_svm))"
      ],
      "metadata": {
        "id": "lGHgYjM6cmnU"
      },
      "execution_count": null,
      "outputs": []
    },
    {
      "cell_type": "code",
      "source": [
        "from sklearn.ensemble import RandomForestRegressor\n",
        "rf = RandomForestRegressor(n_estimators=100, random_state=42)\n",
        "rf.fit(X_train, y_train)"
      ],
      "metadata": {
        "id": "-ICVDxfUcqA-"
      },
      "execution_count": null,
      "outputs": []
    },
    {
      "cell_type": "code",
      "source": [
        "y_pred = rf.predict(X_test)\n",
        "mse = mean_squared_error(y_test, y_pred)\n",
        "r2 = r2_score(y_test, y_pred)\n",
        "\n",
        "scores['mse'].append(mse)\n",
        "scores['R^2'].append(r2)\n",
        "\n",
        "print('Mean Squared Error: ', mse)\n",
        "print('R^2 Score: ', r2)"
      ],
      "metadata": {
        "id": "77wYZlk8c_YW"
      },
      "execution_count": null,
      "outputs": []
    },
    {
      "cell_type": "code",
      "source": [
        "sns.set_theme(style=\"whitegrid\")\n",
        "\n",
        "plt.figure(figsize=(7,5))\n",
        "\n",
        "# Scatter plot with styling\n",
        "plt.scatter(y_test, y_pred, color='mediumseagreen', edgecolor='black', s=60, alpha=0.7)\n",
        "plt.plot([y_test.min(), y_test.max()], [y_test.min(), y_test.max()], color='darkred', linestyle='--', linewidth=2, label='Perfect Prediction')\n",
        "plt.xlabel('Actual Magnitude', fontsize=13)\n",
        "plt.ylabel('Predicted Magnitude', fontsize=13)\n",
        "plt.title('Random Forest Regression: Actual vs Predicted', fontsize=16, fontweight='bold', color='navy')\n",
        "plt.grid(True, linestyle='--', alpha=0.5)\n",
        "plt.legend()\n",
        "plt.tight_layout()\n",
        "plt.show()\n",
        "\n",
        "\n",
        "\n",
        "\n",
        "\n",
        "\n",
        "\n",
        "\n",
        "\n"
      ],
      "metadata": {
        "id": "faBPp688dGPy"
      },
      "execution_count": null,
      "outputs": []
    },
    {
      "cell_type": "code",
      "source": [
        "importances = rf.feature_importances_\n",
        "features = ['Latitude', 'Longitude', 'Depth', 'No. of Stations']\n",
        "sns.set_theme(style=\"whitegrid\")\n",
        "\n",
        "plt.figure(figsize=(10, 6))\n",
        "bars = plt.barh(features, importances, color=sns.color_palette(\"viridis\", len(features)), edgecolor='black')\n",
        "\n",
        "for bar in bars:\n",
        "    plt.text(bar.get_width() + 0.005, bar.get_y() + bar.get_height()/2,\n",
        "             f'{bar.get_width():.3f}', va='center', fontsize=11)\n",
        "plt.xlabel('Importance Score', fontsize=13)\n",
        "plt.ylabel('Features', fontsize=13)\n",
        "plt.title('Feature Importance (Random Forest)', fontsize=16, fontweight='bold', color='darkblue')\n",
        "plt.tight_layout()\n",
        "plt.show()\n"
      ],
      "metadata": {
        "id": "iQ65pn6IdLey"
      },
      "execution_count": null,
      "outputs": []
    },
    {
      "cell_type": "code",
      "source": [
        "import seaborn as sns\n",
        "import matplotlib.pyplot as plt\n",
        "sns.set_theme(style=\"whitegrid\")\n",
        "\n",
        "plt.figure(figsize=(10, 6))\n",
        "sns.residplot(x=y_test, y=y_pred, color='darkorange', lowess=True,\n",
        "              scatter_kws={'alpha': 0.6, 's': 50, 'edgecolor': 'black'})\n",
        "plt.xlabel('Actual Magnitude', fontsize=13)\n",
        "plt.ylabel('Residuals (Predicted - Actual)', fontsize=13)\n",
        "plt.title('Residual Plot of Random Forest Model', fontsize=16, fontweight='bold', color='darkred')\n",
        "plt.grid(True, linestyle='--', alpha=0.5)\n",
        "plt.axhline(0, color='gray', linestyle='--', linewidth=1.5)\n",
        "plt.tight_layout()\n",
        "plt.show()\n"
      ],
      "metadata": {
        "id": "lr36wMnZdPlr"
      },
      "execution_count": null,
      "outputs": []
    },
    {
      "cell_type": "code",
      "source": [
        "plt.plot(y_test.index[:20], y_test[:20], color='blue', label='Actual Magnitude')\n",
        "plt.plot(y_test.index[:20], y_pred[:20], color='orange', label='Predicted Magnitude')\n",
        "plt.xlabel('Index')\n",
        "plt.ylabel('Magnitude')\n",
        "plt.title('Actual vs. Predicted Line Plot')\n",
        "plt.legend()\n",
        "plt.show()"
      ],
      "metadata": {
        "id": "iT9MYDjEdX2I"
      },
      "execution_count": null,
      "outputs": []
    },
    {
      "cell_type": "code",
      "source": [
        "from sklearn.tree import DecisionTreeRegressor\n",
        "dt_regressor = DecisionTreeRegressor(random_state=42)\n",
        "dt_regressor.fit(X_train, y_train)\n",
        "y_pred_dt = dt_regressor.predict(X_test)\n",
        "r2_dt = r2_score(y_test, y_pred_dt)\n",
        "mse_dt = mean_squared_error(y_test, y_pred_dt)\n",
        "\n",
        "scores['mse'].append(mse_dt)\n",
        "scores['R^2'].append(r2_dt)\n",
        "\n",
        "print(\"Decision Tree R^2: {:.2f}, MSE: {:.2f}\".format(r2_dt, mse_dt))\n"
      ],
      "metadata": {
        "id": "laONtekDcXon"
      },
      "execution_count": null,
      "outputs": []
    },
    {
      "cell_type": "code",
      "source": [
        "joblib.dump(dt_regressor, 'earthquake_model_dt.pkl')"
      ],
      "metadata": {
        "id": "vlhU9ATggF5y"
      },
      "execution_count": null,
      "outputs": []
    },
    {
      "cell_type": "markdown",
      "source": [],
      "metadata": {
        "id": "iY9h6grlaB1q"
      }
    },
    {
      "cell_type": "code",
      "source": [
        "from sklearn.neighbors import KNeighborsRegressor\n",
        "from sklearn.metrics import mean_squared_error, r2_score\n",
        "knn = KNeighborsRegressor(n_neighbors=5)\n",
        "knn.fit(X_train, y_train)\n",
        "y_pred_knn = knn.predict(X_test)\n",
        "mse_knn = mean_squared_error(y_test, y_pred_knn)\n",
        "r2_knn = r2_score(y_test, y_pred_knn)\n",
        "\n",
        "print(\"KNN R^2: {:.2f}, MSE: {:.2f}\".format(r2_knn, mse_knn))\n"
      ],
      "metadata": {
        "id": "t8eFfeD5cm-t"
      },
      "execution_count": null,
      "outputs": []
    },
    {
      "cell_type": "code",
      "source": [
        "from sklearn.neighbors import NearestNeighbors\n",
        "import numpy as np\n",
        "import matplotlib.pyplot as plt\n",
        "neigh = NearestNeighbors(n_neighbors=5)\n",
        "neigh.fit(X_train)\n",
        "distances, indices = neigh.kneighbors(X_train.iloc[[0]])\n",
        "plt.figure(figsize=(8, 6))\n",
        "plt.scatter(X_train['Latitude(deg)'], X_train['Longitude(deg)'], c='grey', label='Training Data')\n",
        "plt.scatter(X_train['Latitude(deg)'].iloc[[0]], X_train['Longitude(deg)'].iloc[[0]], c='red', label='Target Data Point')\n",
        "for index in indices[0]:\n",
        "  plt.plot([X_train['Latitude(deg)'].iloc[[0]], X_train['Latitude(deg)'].iloc[[index]]],\n",
        "           [X_train['Longitude(deg)'].iloc[[0]], X_train['Longitude(deg)'].iloc[[index]]],\n",
        "           c='blue')\n",
        "\n",
        "plt.scatter(X_train['Latitude(deg)'].iloc[indices[0]], X_train['Longitude(deg)'].iloc[indices[0]], c='green', label='Nearest Neighbors')\n",
        "\n",
        "plt.xlabel('Latitude')\n",
        "plt.ylabel('Longitude')\n",
        "plt.title('KNN Graph of Nearest Neighbors')\n",
        "plt.legend()\n",
        "plt.show()\n"
      ],
      "metadata": {
        "id": "DJihbFkkdMeE"
      },
      "execution_count": null,
      "outputs": []
    },
    {
      "cell_type": "code",
      "source": [
        "joblib.dump(neigh, 'earthquake_model_knn.pkl')"
      ],
      "metadata": {
        "id": "GJL0qu1ngMss"
      },
      "execution_count": null,
      "outputs": []
    },
    {
      "cell_type": "code",
      "source": [
        "!pip install xgboost\n"
      ],
      "metadata": {
        "id": "mHKjVvWZqIWk"
      },
      "execution_count": null,
      "outputs": []
    },
    {
      "cell_type": "code",
      "source": [
        "import xgboost as xgb\n",
        "from sklearn.metrics import mean_squared_error, r2_score, accuracy_score\n",
        "xgb_model = xgb.XGBRegressor(objective='reg:squarederror', n_estimators=100, learning_rate=0.1, max_depth=5, random_state=42)\n",
        "xgb_model.fit(X_train, y_train)\n",
        "y_pred_xgb = xgb_model.predict(X_test)\n",
        "mse = mean_squared_error(y_test, y_pred_xgb)\n",
        "r2 = r2_score(y_test, y_pred_xgb)\n",
        "\n",
        "print(\"XGBoost Model Performance:\")\n",
        "print(f\"Mean Squared Error (MSE): {mse}\")\n",
        "print(f\"Root Mean Squared Error (RMSE): {mse**0.5}\")\n",
        "print(f\"R2 Score: {r2}\")\n"
      ],
      "metadata": {
        "id": "WfnMydT5qXat"
      },
      "execution_count": null,
      "outputs": []
    },
    {
      "cell_type": "code",
      "source": [
        "plt.figure(figsize=(4,3))\n",
        "plt.scatter(y_test, y_pred_xgb, alpha=0.5)\n",
        "plt.plot([y_test.min(), y_test.max()], [y_test.min(), y_test.max()], 'k--', lw=2)\n",
        "plt.xlabel('Actual Magnitude')\n",
        "plt.ylabel('Predicted Magnitude')\n",
        "plt.title('XGBoost: Actual vs. Predicted Magnitude')\n",
        "plt.show()\n"
      ],
      "metadata": {
        "id": "_4yMVOm4mCC5"
      },
      "execution_count": null,
      "outputs": []
    },
    {
      "cell_type": "code",
      "source": [
        "joblib.dump(xgb_model, 'earthquake_model_xgb.pkl')"
      ],
      "metadata": {
        "id": "X_abRuq_gW8y"
      },
      "execution_count": null,
      "outputs": []
    },
    {
      "cell_type": "code",
      "source": [
        "!pip install lightgbm catboost\n"
      ],
      "metadata": {
        "id": "eu5W6vWUqef7"
      },
      "execution_count": null,
      "outputs": []
    },
    {
      "cell_type": "code",
      "source": [
        "import lightgbm as lgb\n",
        "from catboost import CatBoostRegressor\n"
      ],
      "metadata": {
        "id": "IHmJFOVMqknU"
      },
      "execution_count": null,
      "outputs": []
    },
    {
      "cell_type": "code",
      "source": [
        "# LightGBM Regressor\n",
        "lgb_model = lgb.LGBMRegressor(objective='regression', n_estimators=100, learning_rate=0.1, max_depth=5, random_state=42)\n",
        "\n",
        "# Train\n",
        "lgb_model.fit(X_train, y_train)\n",
        "\n",
        "# Predict\n",
        "y_pred_lgb = lgb_model.predict(X_test)\n",
        "\n",
        "# Evaluate\n",
        "mse_lgb = mean_squared_error(y_test, y_pred_lgb)\n",
        "r2_lgb = r2_score(y_test, y_pred_lgb)\n",
        "\n",
        "print(\"LightGBM Model Performance:\")\n",
        "print(f\"Mean Squared Error (MSE): {mse_lgb}\")\n",
        "print(f\"Root Mean Squared Error (RMSE): {mse_lgb**0.5}\")\n",
        "print(f\"R2 Score: {r2_lgb}\")\n"
      ],
      "metadata": {
        "id": "30DKNKN3qehM"
      },
      "execution_count": null,
      "outputs": []
    },
    {
      "cell_type": "code",
      "source": [
        "import lightgbm as lgb\n",
        "lgb.plot_importance(lgb_model, max_num_features=10, importance_type='gain') # or 'split'\n",
        "plt.title(\"LightGBM Feature Importance\")\n",
        "plt.show()\n",
        "\n",
        "# Plot the predicted vs. actual values\n",
        "plt.figure(figsize=(4,3))\n",
        "plt.scatter(y_test, y_pred_lgb, alpha=0.5)\n",
        "plt.plot([y_test.min(), y_test.max()], [y_test.min(), y_test.max()], 'k--', lw=2)\n",
        "plt.xlabel('Actual Magnitude')\n",
        "plt.ylabel('Predicted Magnitude')\n",
        "plt.title('LightGBM: Actual vs. Predicted Magnitude')\n",
        "plt.show()\n",
        "lgb.create_tree_digraph(lgb_model)\n"
      ],
      "metadata": {
        "id": "R3-LyaeZJmWC"
      },
      "execution_count": null,
      "outputs": []
    },
    {
      "cell_type": "code",
      "source": [
        "joblib.dump(lgb_model, 'earthquake_model_lgb.pkl')"
      ],
      "metadata": {
        "id": "ez29H-GfgedV"
      },
      "execution_count": null,
      "outputs": []
    },
    {
      "cell_type": "code",
      "source": [
        "# CatBoost Regressor\n",
        "cat_model = CatBoostRegressor(iterations=100, learning_rate=0.1, depth=5, random_state=42, verbose=0)\n",
        "\n",
        "# Train\n",
        "cat_model.fit(X_train, y_train)\n",
        "\n",
        "# Predict\n",
        "y_pred_cat = cat_model.predict(X_test)\n",
        "\n",
        "# Evaluate\n",
        "mse_cat = mean_squared_error(y_test, y_pred_cat)\n",
        "r2_cat = r2_score(y_test, y_pred_cat)\n",
        "\n",
        "print(\"CatBoost Model Performance:\")\n",
        "print(f\"Mean Squared Error (MSE): {mse_cat}\")\n",
        "print(f\"Root Mean Squared Error (RMSE): {mse_cat**0.5}\")\n",
        "print(f\"R2 Score: {r2_cat}\")\n"
      ],
      "metadata": {
        "id": "zcPyshK9qrPr"
      },
      "execution_count": null,
      "outputs": []
    },
    {
      "cell_type": "code",
      "source": [
        "from catboost import CatBoostRegressor, Pool, metrics, cv\n",
        "from sklearn.metrics import mean_squared_error, r2_score\n",
        "model = CatBoostRegressor(iterations=1000,\n",
        "                          learning_rate=0.03,\n",
        "                          depth=6,\n",
        "                          loss_function='RMSE',\n",
        "                          eval_metric='RMSE',\n",
        "                          random_seed=42,\n",
        "                          od_type='Iter',\n",
        "                          od_wait=50,\n",
        "                          verbose=100)\n",
        "\n",
        "# Fit the model with evaluation set\n",
        "model.fit(X_train, y_train,\n",
        "          eval_set=(X_test, y_test),\n",
        "          plot=True)\n",
        "\n",
        "# Feature Importance\n",
        "feature_importances = model.get_feature_importance(prettified=True)\n",
        "print(feature_importances)\n",
        "plt.figure(figsize=(7,5))\n",
        "plt.barh(feature_importances['Feature Id'], feature_importances['Importances'], color='skyblue', edgecolor='black')\n",
        "plt.title(\"CatBoost Feature Importance\", fontsize=16, fontweight='bold')\n",
        "plt.xlabel(\"Importance\", fontsize=12)\n",
        "plt.ylabel(\"Features\", fontsize=12)\n",
        "plt.grid(axis='x', linestyle='--', alpha=0.7)\n",
        "plt.tight_layout()\n",
        "plt.show()\n",
        "\n",
        "# Prediction and Evaluation\n",
        "y_pred = model.predict(X_test)\n",
        "mse = mean_squared_error(y_test, y_pred)\n",
        "r2 = r2_score(y_test, y_pred)\n",
        "print(f\"MSE: {mse}\")\n",
        "print(f\"R-squared: {r2}\")\n",
        "\n",
        "# Learning Curve\n",
        "evals_result = model.evals_result_\n",
        "iterations = list(range(len(evals_result['learn']['RMSE'])))\n",
        "plt.figure(figsize=(7,5))\n",
        "plt.plot(iterations, evals_result['learn']['RMSE'], label='Train', color='dodgerblue', linewidth=2)\n",
        "plt.plot(iterations, evals_result['validation']['RMSE'], label='Test', color='orangered', linewidth=2)\n",
        "plt.xlabel('Iterations', fontsize=12)\n",
        "plt.ylabel('RMSE', fontsize=12)\n",
        "plt.title('CatBoost Learning Curve', fontsize=16, fontweight='bold')\n",
        "plt.legend()\n",
        "plt.grid(True, linestyle='--', alpha=0.6)\n",
        "plt.tight_layout()\n",
        "plt.show()\n",
        "\n",
        "plt.figure(figsize=(7,5))\n",
        "plt.scatter(y_test, y_pred, alpha=0.6, color='mediumseagreen', edgecolors='black')\n",
        "plt.plot([min(y_test), max(y_test)], [min(y_test), max(y_test)], 'r--', lw=2)\n",
        "plt.xlabel(\"Actual Magnitude (ergs)\", fontsize=12)\n",
        "plt.ylabel(\"Predicted Magnitude (ergs)\", fontsize=12)\n",
        "plt.title(\"CatBoost Predicted vs Actual\", fontsize=16, fontweight='bold')\n",
        "plt.grid(True, linestyle='--', alpha=0.5)\n",
        "plt.tight_layout()\n",
        "plt.show()\n"
      ],
      "metadata": {
        "id": "QDZ-wNEvKtek"
      },
      "execution_count": null,
      "outputs": []
    },
    {
      "cell_type": "code",
      "source": [
        "joblib.dump(model, 'earthquake_model_cb.pkl')"
      ],
      "metadata": {
        "id": "LZMtR0E0gl25"
      },
      "execution_count": null,
      "outputs": []
    },
    {
      "cell_type": "code",
      "source": [
        "from sklearn.ensemble import StackingRegressor\n",
        "from sklearn.linear_model import LinearRegression\n"
      ],
      "metadata": {
        "id": "M93AU1S2qrQ1"
      },
      "execution_count": null,
      "outputs": []
    },
    {
      "cell_type": "code",
      "source": [
        "# Define Base Models\n",
        "base_models = [\n",
        "    ('rf', RandomForestRegressor(n_estimators=100, random_state=42)),\n",
        "    ('knn', KNeighborsRegressor(n_neighbors=5)),\n",
        "    ('xgb', xgb.XGBRegressor(objective='reg:squarederror', n_estimators=100, learning_rate=0.1, max_depth=5, random_state=42)),\n",
        "    ('lgb', lgb.LGBMRegressor(objective='regression', n_estimators=100, learning_rate=0.1, max_depth=5, random_state=42)),\n",
        "    ('cat', CatBoostRegressor(iterations=100, learning_rate=0.1, depth=5, random_state=42, verbose=0))\n",
        "]\n"
      ],
      "metadata": {
        "id": "v1Wy__yYq7GL"
      },
      "execution_count": null,
      "outputs": []
    },
    {
      "cell_type": "code",
      "source": [
        "meta_model = LinearRegression()\n"
      ],
      "metadata": {
        "id": "avF7VE5qq9OF"
      },
      "execution_count": null,
      "outputs": []
    },
    {
      "cell_type": "code",
      "source": [
        "# Stacking Regressor\n",
        "stacking_model = StackingRegressor(\n",
        "    estimators=base_models,\n",
        "    final_estimator=meta_model,\n",
        "    cv=5,\n",
        "    n_jobs=-1\n",
        ")\n",
        "\n",
        "stacking_model.fit(X_train, y_train)\n",
        "\n",
        "# Predict\n",
        "y_pred_stack = stacking_model.predict(X_test)\n",
        "\n",
        "# Evaluate\n",
        "mse_stack = mean_squared_error(y_test, y_pred_stack)\n",
        "r2_stack = r2_score(y_test, y_pred_stack)\n",
        "\n",
        "print(\"Stacking Model Performance:\")\n",
        "print(f\"Mean Squared Error (MSE): {mse_stack}\")\n",
        "print(f\"Root Mean Squared Error (RMSE): {mse_stack**0.5}\")\n",
        "print(f\"R2 Score: {r2_stack}\")\n"
      ],
      "metadata": {
        "id": "HCQNFvtuq_x9"
      },
      "execution_count": null,
      "outputs": []
    },
    {
      "cell_type": "code",
      "source": [
        "plt.figure(figsize=(8, 6))\n",
        "plt.plot(y_test.index, y_test, label='Actual Magnitude')\n",
        "plt.plot(y_test.index, y_pred_stack, label='Stacked Model Prediction')\n",
        "plt.xlabel('Sample Index')\n",
        "plt.ylabel('Magnitude')\n",
        "plt.title('Stacking Model: Actual vs. Predicted Magnitude')\n",
        "plt.legend()\n",
        "plt.show()\n"
      ],
      "metadata": {
        "id": "fQNVbBPcLMiD"
      },
      "execution_count": null,
      "outputs": []
    },
    {
      "cell_type": "code",
      "source": [
        "import joblib\n",
        "joblib.dump(rf, 'earthquake_model.pkl')"
      ],
      "metadata": {
        "id": "rr1nlYHlBFbh"
      },
      "execution_count": null,
      "outputs": []
    },
    {
      "cell_type": "code",
      "source": [],
      "metadata": {
        "id": "BESZ3f50qWd-"
      },
      "execution_count": null,
      "outputs": []
    },
    {
      "cell_type": "code",
      "source": [],
      "metadata": {
        "id": "_8TXQEvGqWe2"
      },
      "execution_count": null,
      "outputs": []
    },
    {
      "cell_type": "code",
      "source": [
        "import joblib\n",
        "joblib.dump(stacking_model, 'earthquake_model_sm.pkl')"
      ],
      "metadata": {
        "id": "eMOqTlz9ls7y"
      },
      "execution_count": null,
      "outputs": []
    },
    {
      "cell_type": "code",
      "source": [
        "joblib.dump(stacking_model, 'earthquake_model_sm.pkl')"
      ],
      "metadata": {
        "id": "D1zuoPCQmd5C"
      },
      "execution_count": null,
      "outputs": []
    }
  ]
}